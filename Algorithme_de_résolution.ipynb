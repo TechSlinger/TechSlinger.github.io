{
  "nbformat": 4,
  "nbformat_minor": 0,
  "metadata": {
    "colab": {
      "provenance": [],
      "authorship_tag": "ABX9TyMETfVlxHE0ggKtc62clhOp",
      "include_colab_link": true
    },
    "kernelspec": {
      "name": "python3",
      "display_name": "Python 3"
    },
    "language_info": {
      "name": "python"
    }
  },
  "cells": [
    {
      "cell_type": "markdown",
      "metadata": {
        "id": "view-in-github",
        "colab_type": "text"
      },
      "source": [
        "<a href=\"https://colab.research.google.com/github/TechSlinger/TechSlinger.github.io/blob/main/Algorithme_de_r%C3%A9solution.ipynb\" target=\"_parent\"><img src=\"https://colab.research.google.com/assets/colab-badge.svg\" alt=\"Open In Colab\"/></a>"
      ]
    },
    {
      "cell_type": "code",
      "execution_count": 3,
      "metadata": {
        "colab": {
          "base_uri": "https://localhost:8080/"
        },
        "id": "QDFqXO0s7Ysn",
        "outputId": "551388c8-444f-4289-ff0f-773bedcdd8f0"
      },
      "outputs": [
        {
          "output_type": "stream",
          "name": "stdout",
          "text": [
            "Entrez une formule bien formée : Or(symbols('A'), symbols('B'))\n",
            "Négation de F : ~(A | B)\n",
            "F est valide.\n"
          ]
        }
      ],
      "source": [
        "from sympy import symbols, Not, Or, And\n",
        "\n",
        "def negation(F):\n",
        "    return Not(F)\n",
        "\n",
        "def mettre_sous_forme_clauses(F):\n",
        "    return F.args if isinstance(F, Or) else [F]\n",
        "\n",
        "def chercher_clauses_resolvantes(clauses):\n",
        "    for i, clause1 in enumerate(clauses):\n",
        "        for j, clause2 in enumerate(clauses):\n",
        "            if i != j:\n",
        "                resolvent = clause1 | clause2\n",
        "                if False in resolvent.args:\n",
        "                    resolvent = resolvent.subs(False, False)\n",
        "                else:\n",
        "                    continue\n",
        "                resolvent = resolvent.simplify()\n",
        "                if resolvent == False:\n",
        "                    return []\n",
        "                if resolvent != clause1 and resolvent != clause2 and resolvent not in clauses:\n",
        "                    return resolvent\n",
        "    return []\n",
        "\n",
        "def est_valide(F):\n",
        "    clauses = mettre_sous_forme_clauses(F)\n",
        "    while True:\n",
        "        resolvent = chercher_clauses_resolvantes(clauses)\n",
        "        if resolvent == []:\n",
        "            return True\n",
        "        elif not resolvent:\n",
        "            return False\n",
        "        else:\n",
        "            clauses.append(resolvent)\n",
        "\n",
        "if __name__ == \"__main__\":\n",
        "    formule = input(\"Entrez une formule bien formée : \")\n",
        "    variables = symbols(formule)\n",
        "    F = eval(formule)\n",
        "    F_negation = negation(F)\n",
        "    print(\"Négation de F :\", F_negation)\n",
        "\n",
        "    if est_valide(F):\n",
        "        print(\"F est valide.\")\n",
        "    else:\n",
        "        print(\"F est invalide.\")\n"
      ]
    }
  ]
}