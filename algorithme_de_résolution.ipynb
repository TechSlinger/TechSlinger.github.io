{
  "nbformat": 4,
  "nbformat_minor": 0,
  "metadata": {
    "colab": {
      "provenance": [],
      "authorship_tag": "ABX9TyOblAflcCJrpi42c1agui1Z",
      "include_colab_link": true
    },
    "kernelspec": {
      "name": "python3",
      "display_name": "Python 3"
    },
    "language_info": {
      "name": "python"
    }
  },
  "cells": [
    {
      "cell_type": "markdown",
      "metadata": {
        "id": "view-in-github",
        "colab_type": "text"
      },
      "source": [
        "<a href=\"https://colab.research.google.com/github/TechSlinger/TechSlinger.github.io/blob/main/algorithme_de_r%C3%A9solution.ipynb\" target=\"_parent\"><img src=\"https://colab.research.google.com/assets/colab-badge.svg\" alt=\"Open In Colab\"/></a>"
      ]
    },
    {
      "cell_type": "code",
      "execution_count": 63,
      "metadata": {
        "colab": {
          "base_uri": "https://localhost:8080/"
        },
        "id": "ttjqMMsYnBxa",
        "outputId": "f8adc9a6-cd0f-4f35-96b0-04e782d87d4b"
      },
      "outputs": [
        {
          "output_type": "stream",
          "name": "stdout",
          "text": [
            "negation of formula is ~(P^Q)\n",
            "clauses are ['P', 'Q']\n",
            "Le résultat de la résolution est : invalide\n"
          ]
        }
      ],
      "source": [
        "def negation(formula):\n",
        "    if not formula:\n",
        "        return \"\"\n",
        "    if formula[0] == \"~\":\n",
        "        return formula[1:] if len(formula) > 1 else \"\"\n",
        "    else:\n",
        "        return \"~\" + \"(\" + formula + \")\"\n",
        "\n",
        "def to_clauses(formula):\n",
        "    # Diviser la formule en clauses\n",
        "    clauses = formula.split(\"^\")\n",
        "    return [clause.strip() for clause in clauses]\n",
        "\n",
        "def resolve(clause1, clause2):\n",
        "    for literal in clause1:\n",
        "        neg_literal = negation(literal)\n",
        "        if neg_literal in clause2:\n",
        "            new_clause = [l for l in clause1 if l != literal] + [l for l in clause2 if l != neg_literal]\n",
        "            return new_clause\n",
        "    return None\n",
        "\n",
        "def resolution(formula):\n",
        "    # Ecrire la négation de F\n",
        "    negated_formula = negation(formula)\n",
        "\n",
        "    # Mettre F sous forme d'un ensemble de clauses\n",
        "    clauses = to_clauses(formula)\n",
        "    negated_clauses = to_clauses(negated_formula)\n",
        "\n",
        "    # Initialiser la liste des clauses avec les clauses de F et de sa négation\n",
        "    resolved_clauses = set(clauses)\n",
        "\n",
        "    while True:\n",
        "        new_clauses = set()\n",
        "        # Chercher des paires réductibles\n",
        "        for clause1 in resolved_clauses:\n",
        "            for clause2 in resolved_clauses:\n",
        "                if clause1 != clause2:\n",
        "                    resolvent = resolve(clause1, clause2)\n",
        "                    if resolvent is not None:\n",
        "                        # Ajouter le résultat à la liste des clauses\n",
        "                        new_clauses.add(tuple(resolvent))\n",
        "                        # Si la nouvelle clause est vide, la formule est valide\n",
        "                        if not resolvent:\n",
        "                            return \"valide\"\n",
        "        if not new_clauses:\n",
        "            # Aucune nouvelle clause n'a été ajoutée, la formule est invalide\n",
        "            return \"invalide\"\n",
        "        resolved_clauses.update(new_clauses)\n",
        "# Test de la fonction de résolution\n",
        "formula = \"P^Q\"\n",
        "print(\"negation of formula is {}\".format(negation(formula)))\n",
        "clauses = to_clauses(formula)\n",
        "negated_formula = negation(formula)\n",
        "print(\"clauses are {}\".format(clauses))\n",
        "result = resolution(formula)\n",
        "print(f\"Le résultat de la résolution est : {result}\")\n",
        "\n"
      ]
    }
  ]
}