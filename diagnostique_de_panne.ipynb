{
  "nbformat": 4,
  "nbformat_minor": 0,
  "metadata": {
    "colab": {
      "provenance": [],
      "authorship_tag": "ABX9TyMAK35WRWgbZ9TVnN09GzBV",
      "include_colab_link": true
    },
    "kernelspec": {
      "name": "python3",
      "display_name": "Python 3"
    },
    "language_info": {
      "name": "python"
    }
  },
  "cells": [
    {
      "cell_type": "markdown",
      "metadata": {
        "id": "view-in-github",
        "colab_type": "text"
      },
      "source": [
        "<a href=\"https://colab.research.google.com/github/TechSlinger/TechSlinger.github.io/blob/main/diagnostique_de_panne.ipynb\" target=\"_parent\"><img src=\"https://colab.research.google.com/assets/colab-badge.svg\" alt=\"Open In Colab\"/></a>"
      ]
    },
    {
      "cell_type": "code",
      "execution_count": 9,
      "metadata": {
        "colab": {
          "base_uri": "https://localhost:8080/"
        },
        "id": "GOIlV00oFX2w",
        "outputId": "451913f4-3240-453c-8739-969c384e1d62"
      },
      "outputs": [
        {
          "output_type": "stream",
          "name": "stdout",
          "text": [
            "y_pred est:[\"Problème d'alimentation, carte mère défectueuse\"\n",
            " \"Problème d'alimentation, carte mère défectueuse\"\n",
            " \"Problème d'alimentation, carte mère défectueuse\"]\n",
            "y_pred est:['Problème de mémoire, disque dur plein', 'Problème de ventilation, accumulation de poussière', 'Problème de connexion, carte réseau défectueuse']\n",
            "Précision du modèle : 0.0\n"
          ]
        }
      ],
      "source": [
        "from sklearn.feature_extraction.text import CountVectorizer\n",
        "from sklearn.model_selection import train_test_split\n",
        "from sklearn.ensemble import RandomForestClassifier\n",
        "from sklearn.metrics import accuracy_score\n",
        "from imblearn.over_sampling import RandomOverSampler\n",
        "import numpy as np\n",
        "\n",
        "\n",
        "symptomes = [\n",
        "    \"L'ordinateur ne démarre pas\",\n",
        "    \"L'écran est noir\",\n",
        "    \"L'ordinateur est lent\",\n",
        "    \"L'ordinateur surchauffe\",\n",
        "    \"Le réseau ne fonctionne pas\",\n",
        "    \"Les périphériques USB ne sont pas reconnus\",\n",
        "    \"L'écran clignote\",\n",
        "    \"L'ordinateur émet des bip au démarrage\",\n",
        "    \"Les applications se ferment de manière inattendue\",\n",
        "    \"L'ordinateur affiche des messages d'erreur\",\n",
        "    \"Les touches du clavier ne fonctionnent pas\",\n",
        "    \"Les ventilateurs font un bruit anormal\"\n",
        "]\n",
        "\n",
        "problemes_potentiels = [\n",
        "    \"Problème d'alimentation, carte mère défectueuse\",\n",
        "    \"Problème d'écran, carte graphique défectueuse\",\n",
        "    \"Problème de mémoire, disque dur plein\",\n",
        "    \"Problème de ventilation, accumulation de poussière\",\n",
        "    \"Problème de connexion, carte réseau défectueuse\",\n",
        "    \"Problème de pilotes, ports USB défectueux\",\n",
        "    \"Problème de carte graphique, pilotes graphiques défectueux\",\n",
        "    \"Problème de RAM, carte mère défectueuse\",\n",
        "    \"Problème de mémoire, virus informatique\",\n",
        "    \"Problème de système d'exploitation, fichiers système corrompus\",\n",
        "    \"Problème de clavier, pilotes de clavier défectueux\",\n",
        "    \"Problème de ventilateur, accumulation de poussière\"\n",
        "]\n",
        "\n",
        "# Conversion en tableau numpy pour les caractéristiques (X) et liste pour les étiquettes (y)\n",
        "X = np.array(symptomes)\n",
        "y = problemes_potentiels\n",
        "\n",
        "# Utilisation de RandomOverSampler pour équilibrer les classes\n",
        "oversample = RandomOverSampler(sampling_strategy='auto')\n",
        "\n",
        "X_resampled, y_resampled = oversample.fit_resample(X.reshape(-1, 1), y)\n",
        "\n",
        "# Création de la matrice de caractéristiques\n",
        "vectorizer = CountVectorizer()\n",
        "X_train = vectorizer.fit_transform(X_resampled.ravel())\n",
        "\n",
        "# Division des données en ensembles d'entraînement et de test\n",
        "X_train, X_test, y_train, y_test = train_test_split(X_train, y_resampled, random_state=1)\n",
        "\n",
        "# Entraînement du modèle avec RandomForestClassifier\n",
        "clf = RandomForestClassifier()\n",
        "clf.fit(X_train, y_train)\n",
        "\n",
        "# Prédiction sur les données de test\n",
        "y_pred = clf.predict(X_test)\n",
        "print(\"y_pred est:{}\".format(y_pred))\n",
        "print(\"y_pred est:{}\".format(y_test))\n",
        "\n",
        "# Évaluation du modèle\n",
        "accuracy = accuracy_score(y_test, y_pred)\n",
        "print(f\"Précision du modèle : {accuracy}\")\n"
      ]
    }
  ]
}